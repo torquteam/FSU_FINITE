{
 "cells": [
  {
   "cell_type": "code",
   "execution_count": 1,
   "metadata": {},
   "outputs": [
    {
     "name": "stdout",
     "output_type": "stream",
     "text": [
      "0.25998\n"
     ]
    },
    {
     "data": {
      "text/plain": [
       "(array([7.58283478e-03, 2.88147722e-02, 1.04643120e-01, 1.89570870e-01,\n",
       "        1.95637137e-01, 2.48716981e-01, 2.69190635e-01, 3.19995628e-01,\n",
       "        3.10137943e-01, 2.69190635e-01, 2.36584445e-01, 1.88812586e-01,\n",
       "        2.39617579e-01, 3.02555108e-01, 4.28430165e-01, 5.17907616e-01,\n",
       "        5.49755522e-01, 7.32501840e-01, 7.96955936e-01, 7.87856534e-01,\n",
       "        8.22737574e-01, 8.24254141e-01, 7.49942360e-01, 6.80938564e-01,\n",
       "        5.55063506e-01, 4.21605614e-01, 3.13171077e-01, 1.79713184e-01,\n",
       "        1.35732743e-01, 7.58283478e-02, 4.32221583e-02, 4.32221583e-02,\n",
       "        3.63976070e-02, 2.65399217e-02, 1.89570870e-02, 1.13742522e-02,\n",
       "        9.85768522e-03, 7.58283478e-03, 2.27485044e-03, 3.79141739e-03,\n",
       "        3.03313391e-03, 1.51656696e-03, 1.51656696e-03, 7.58283478e-04,\n",
       "        7.58283478e-04, 7.58283478e-04, 0.00000000e+00, 0.00000000e+00,\n",
       "        7.58283478e-04, 7.58283478e-04]),\n",
       " array([2.00750751, 2.093003  , 2.1784985 , 2.26399399, 2.34948949,\n",
       "        2.43498498, 2.52048048, 2.60597598, 2.69147147, 2.77696697,\n",
       "        2.86246246, 2.94795796, 3.03345345, 3.11894895, 3.20444444,\n",
       "        3.28993994, 3.37543544, 3.46093093, 3.54642643, 3.63192192,\n",
       "        3.71741742, 3.80291291, 3.88840841, 3.9739039 , 4.0593994 ,\n",
       "        4.14489489, 4.23039039, 4.31588589, 4.40138138, 4.48687688,\n",
       "        4.57237237, 4.65786787, 4.74336336, 4.82885886, 4.91435435,\n",
       "        4.99984985, 5.08534535, 5.17084084, 5.25633634, 5.34183183,\n",
       "        5.42732733, 5.51282282, 5.59831832, 5.68381381, 5.76930931,\n",
       "        5.8548048 , 5.9403003 , 6.0257958 , 6.11129129, 6.19678679,\n",
       "        6.28228228]),\n",
       " <BarContainer object of 50 artists>)"
      ]
     },
     "execution_count": 1,
     "metadata": {},
     "output_type": "execute_result"
    },
    {
     "data": {
      "image/png": "[encoded data removed]",
      "text/plain": [
       "<Figure size 640x480 with 1 Axes>"
      ]
     },
     "metadata": {},
     "output_type": "display_data"
    }
   ],
   "source": [
    "import numpy as np\n",
    "import matplotlib.pyplot as plt\n",
    "import random\n",
    "import statistics\n",
    "\n",
    "# generate toy data for TOV\n",
    "def gen_TOV_samples(mean, std_dev, n_samples):\n",
    "    samples = np.random.normal(loc=mean, scale=std_dev, size=n_samples)\n",
    "    return samples\n",
    "\n",
    "# use Monte carlo methods to compute the new masses with rotation\n",
    "def gen_ROT_samples(TOV_samples,R_mean,R_error):\n",
    "    mR_samples = []\n",
    "    for i in range(len(TOV_samples)):\n",
    "        mR_samples.append(TOV_samples[i]*np.random.normal(loc=R_mean,scale=R_error,size=1)[0])\n",
    "    return mR_samples\n",
    "\n",
    "# calculates a random integer from 0 to N\n",
    "def random_int(upper_limit):\n",
    "    return random.randint(0,upper_limit)\n",
    "\n",
    "# Computes the probability of that the observed measurement is described by the theoretical value\n",
    "# using Monte carlo sampling\n",
    "def MC_prob(the_samples, exp_samples, nruns):\n",
    "    # Monte Carlo code to compute probability\n",
    "    count = 0\n",
    "    for i in range(nruns):\n",
    "        rTh = random_int(len(the_samples)-1)\n",
    "        rEx = random_int(len(exp_samples)-1)\n",
    "        mTh = the_samples[rTh]\n",
    "        mEx = exp_samples[rEx]\n",
    "        if (mTh > mEx):\n",
    "            count = count + 1\n",
    "\n",
    "    prob = count/nruns\n",
    "    return prob\n",
    "\n",
    "# Using the probability function, obtain a sampling array of the experimental measurement from LIGO\n",
    "# uses accept/reject sampling\n",
    "def gen_exp_samples(file,npoints):\n",
    "    prob_func = np.loadtxt(file)\n",
    "    size = len(prob_func)\n",
    "\n",
    "    exp_masses = []\n",
    "    for i in range(npoints):\n",
    "        index = random_int(size-1)\n",
    "        r = random.random()\n",
    "        p = prob_func[index][1]\n",
    "        mass = prob_func[index][0]\n",
    "        if (r<p):\n",
    "            exp_masses.append(mass)\n",
    "    return exp_masses\n",
    "\n",
    "# define number of samples in samplings\n",
    "N_samples = 100000\n",
    "\n",
    "# define the mass increase factors with rotation\n",
    "rot_factor = 1.260\n",
    "rot_error = 0.04\n",
    "\n",
    "# import TOV masses\n",
    "mTOV_samples = np.loadtxt(\"MCMC_complete_26.txt\")[:,17]\n",
    "#mTOV_samples = gen_TOV_samples(2.7,0.1,100000)\n",
    "\n",
    "# generate maximum masses with rotation\n",
    "mMAX_samples = gen_ROT_samples(mTOV_samples,rot_factor,rot_error)\n",
    "\n",
    "# generate EXP masses\n",
    "mEXP_samples = gen_exp_samples(\"mass_ls_data.txt\",N_samples)\n",
    "\n",
    "# compute probability\n",
    "prob = MC_prob(mMAX_samples,mEXP_samples,N_samples)\n",
    "print(prob)\n",
    "\n",
    "#s2 = rot_factor**2 * 0.1**2 + 2.7**2 * rot_error**2\n",
    "#test = gen_TOV_samples(2.7*rot_factor,np.sqrt(s2),100000)\n",
    "\n",
    "plt.hist(mMAX_samples,bins=50,density=True,alpha=0.5)\n",
    "plt.hist(mEXP_samples,bins=50,density=True,alpha=0.5)"
   ]
  },
  {
   "cell_type": "code",
   "execution_count": 2,
   "metadata": {},
   "outputs": [
    {
     "name": "stdout",
     "output_type": "stream",
     "text": [
      "-16.26995407\n",
      "1.312671339\n",
      "0.5843732534\n",
      "244.3419784\n",
      "33.23473693\n",
      "45.74291391\n",
      "0.00356977081667\n",
      "0.0004102762846\n"
     ]
    }
   ],
   "source": [
    "import statistics\n",
    "import numpy as np\n",
    "\n",
    "samples = np.loadtxt(\"MCMC_complete_26.txt\")\n",
    "# Get mean values and uncertainties for the bulk properties\n",
    "\n",
    "for i in range(7):\n",
    "    print(statistics.mean(samples[:,i]))\n"
   ]
  }
 ],
 "metadata": {
  "kernelspec": {
   "display_name": "Python 3",
   "language": "python",
   "name": "python3"
  },
  "language_info": {
   "codemirror_mode": {
    "name": "ipython",
    "version": 3
   },
   "file_extension": ".py",
   "mimetype": "text/x-python",
   "name": "python",
   "nbconvert_exporter": "python",
   "pygments_lexer": "ipython3",
   "version": "3.12.3"
  }
 },
 "nbformat": 4,
 "nbformat_minor": 2
}
