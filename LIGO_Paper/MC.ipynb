{
 "cells": [
  {
   "cell_type": "code",
   "execution_count": 25,
   "metadata": {},
   "outputs": [
    {
     "name": "stdout",
     "output_type": "stream",
     "text": [
      "2.713622643\n",
      "0.35374\n"
     ]
    },
    {
     "data": {
      "text/plain": [
       "(array([3.82556320e-03, 3.36649562e-02, 9.48739674e-02, 1.65264330e-01,\n",
       "        2.21882666e-01, 2.35654693e-01, 2.76205663e-01, 2.58608072e-01,\n",
       "        3.26703097e-01, 2.62433636e-01, 2.22647778e-01, 1.80566583e-01,\n",
       "        2.44070932e-01, 3.01454380e-01, 3.86381883e-01, 4.60597810e-01,\n",
       "        6.22801689e-01, 6.74829349e-01, 7.91126470e-01, 8.23261201e-01,\n",
       "        8.58456383e-01, 8.33207665e-01, 7.89596245e-01, 6.81715363e-01,\n",
       "        5.78425156e-01, 4.72839612e-01, 2.86917240e-01, 2.15761765e-01,\n",
       "        1.22418022e-01, 8.56926157e-02, 5.35578848e-02, 3.74905194e-02,\n",
       "        3.06045056e-02, 2.06580413e-02, 1.91278160e-02, 9.18135169e-03,\n",
       "        1.37720275e-02, 7.65112640e-03, 6.12090112e-03, 6.12090112e-03,\n",
       "        1.53022528e-03, 2.29533792e-03, 2.29533792e-03, 7.65112640e-04,\n",
       "        7.65112640e-04, 2.29533792e-03, 1.53022528e-03, 0.00000000e+00,\n",
       "        3.06045056e-03, 1.53022528e-03]),\n",
       " array([2.00750751, 2.09274274, 2.17797798, 2.26321321, 2.34844845,\n",
       "        2.43368368, 2.51891892, 2.60415415, 2.68938939, 2.77462462,\n",
       "        2.85985986, 2.9450951 , 3.03033033, 3.11556557, 3.2008008 ,\n",
       "        3.28603604, 3.37127127, 3.45650651, 3.54174174, 3.62697698,\n",
       "        3.71221221, 3.79744745, 3.88268268, 3.96791792, 4.05315315,\n",
       "        4.13838839, 4.22362362, 4.30885886, 4.39409409, 4.47932933,\n",
       "        4.56456456, 4.6497998 , 4.73503504, 4.82027027, 4.90550551,\n",
       "        4.99074074, 5.07597598, 5.16121121, 5.24644645, 5.33168168,\n",
       "        5.41691692, 5.50215215, 5.58738739, 5.67262262, 5.75785786,\n",
       "        5.84309309, 5.92832833, 6.01356356, 6.0987988 , 6.18403403,\n",
       "        6.26926927]),\n",
       " <BarContainer object of 50 artists>)"
      ]
     },
     "execution_count": 25,
     "metadata": {},
     "output_type": "execute_result"
    },
    {
     "data": {
      "image/png": "[encoded data removed]",
      "text/plain": [
       "<Figure size 640x480 with 1 Axes>"
      ]
     },
     "metadata": {},
     "output_type": "display_data"
    }
   ],
   "source": [
    "import numpy as np\n",
    "import matplotlib.pyplot as plt\n",
    "import random\n",
    "import statistics\n",
    "\n",
    "# generate toy data for TOV\n",
    "def gen_TOV_samples(mean, std_dev, n_samples):\n",
    "    samples = np.random.normal(loc=mean, scale=std_dev, size=n_samples)\n",
    "    return samples\n",
    "\n",
    "# use Monte carlo methods to compute the new masses with rotation\n",
    "def gen_ROT_samples(TOV_samples,R_mean,R_error):\n",
    "    mR_samples = []\n",
    "    for i in range(len(TOV_samples)):\n",
    "        mR_samples.append(TOV_samples[i]*np.random.normal(loc=R_mean,scale=R_error,size=1)[0])\n",
    "    return mR_samples\n",
    "\n",
    "# calculates a random integer from 0 to N\n",
    "def random_int(upper_limit):\n",
    "    return random.randint(0,upper_limit)\n",
    "\n",
    "# Computes the probability of that the observed measurement is described by the theoretical value\n",
    "# using Monte carlo sampling\n",
    "def MC_prob(the_samples, exp_samples, nruns):\n",
    "    # Monte Carlo code to compute probability\n",
    "    count = 0\n",
    "    for i in range(nruns):\n",
    "        rTh = random_int(len(the_samples)-1)\n",
    "        rEx = random_int(len(exp_samples)-1)\n",
    "        mTh = the_samples[rTh]\n",
    "        mEx = exp_samples[rEx]\n",
    "        if (mTh > mEx):\n",
    "            count = count + 1\n",
    "\n",
    "    prob = count/nruns\n",
    "    return prob\n",
    "\n",
    "# Using the probability function, obtain a sampling array of the experimental measurement from LIGO\n",
    "# uses accept/reject sampling\n",
    "def gen_exp_samples(file,npoints):\n",
    "    prob_func = np.loadtxt(file)\n",
    "    size = len(prob_func)\n",
    "\n",
    "    exp_masses = []\n",
    "    for i in range(npoints):\n",
    "        index = random_int(size-1)\n",
    "        r = random.random()\n",
    "        p = prob_func[index][1]\n",
    "        mass = prob_func[index][0]\n",
    "        if (r<p):\n",
    "            exp_masses.append(mass)\n",
    "    return exp_masses\n",
    "\n",
    "# define number of samples in samplings\n",
    "N_samples = 100000\n",
    "\n",
    "# define the mass increase factors with rotation\n",
    "rot_factor = 1.260\n",
    "rot_error = 0.04\n",
    "\n",
    "# import TOV masses\n",
    "mTOV_samples = np.loadtxt(\"MCMC_complete_28.txt\")[:,17]\n",
    "#mTOV_samples = gen_TOV_samples(2.75,0.01,100000)\n",
    "print(statistics.mean(mTOV_samples))\n",
    "\n",
    "# generate maximum masses with rotation\n",
    "mMAX_samples = gen_ROT_samples(mTOV_samples,rot_factor,rot_error)\n",
    "\n",
    "with open(\"Calibration_28.txt\",'w') as file:\n",
    "    for i in range(10000):\n",
    "        print(mTOV_samples[i],file=file,end=\"  \")\n",
    "        print(mMAX_samples[i],file=file)\n",
    "\n",
    "\n",
    "# generate EXP masses\n",
    "mEXP_samples = gen_exp_samples(\"mass_ls_data.txt\",N_samples)\n",
    "\n",
    "# compute probability\n",
    "prob = MC_prob(mMAX_samples,mEXP_samples,N_samples)\n",
    "print(prob)\n",
    "\n",
    "#s2 = rot_factor**2 * 0.1**2 + 2.7**2 * rot_error**2\n",
    "#test = gen_TOV_samples(2.7*rot_factor,np.sqrt(s2),100000)\n",
    "plt.hist(mTOV_samples,bins=50,density=True,alpha=0.5)\n",
    "plt.hist(mMAX_samples,bins=50,density=True,alpha=0.5)\n",
    "plt.hist(mEXP_samples,bins=50,density=True,alpha=0.5)"
   ]
  },
  {
   "cell_type": "code",
   "execution_count": 2,
   "metadata": {},
   "outputs": [
    {
     "name": "stdout",
     "output_type": "stream",
     "text": [
      "-16.26995407\n",
      "1.312671339\n",
      "0.5843732534\n",
      "244.3419784\n",
      "33.23473693\n",
      "45.74291391\n",
      "0.00356977081667\n",
      "0.0004102762846\n"
     ]
    }
   ],
   "source": [
    "import statistics\n",
    "import numpy as np\n",
    "\n",
    "samples = np.loadtxt(\"MCMC_complete_26.txt\")\n",
    "# Get mean values and uncertainties for the bulk properties\n",
    "\n",
    "for i in range(7):\n",
    "    print(statistics.mean(samples[:,i]))\n"
   ]
  }
 ],
 "metadata": {
  "kernelspec": {
   "display_name": "Python 3",
   "language": "python",
   "name": "python3"
  },
  "language_info": {
   "codemirror_mode": {
    "name": "ipython",
    "version": 3
   },
   "file_extension": ".py",
   "mimetype": "text/x-python",
   "name": "python",
   "nbconvert_exporter": "python",
   "pygments_lexer": "ipython3",
   "version": "3.9.5"
  }
 },
 "nbformat": 4,
 "nbformat_minor": 2
}
